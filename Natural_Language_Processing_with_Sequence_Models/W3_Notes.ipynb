{
 "cells": [
  {
   "cell_type": "markdown",
   "id": "b8975433",
   "metadata": {},
   "source": [
    "# LSTM\n",
    "- in LSTM info goes through \n",
    "    - forget gate (gets prev. hidden state & $x^t1$), \n",
    "    - input gate (sigmoid, tanh), \n",
    "    - output gate (tanh)\n",
    "- LSTM can deal with long sequences (robust to vanishing gradients?)\n",
    "- https://www.youtube.com/watch?v=uSdku8Q3d0A\n",
    "\n",
    "## LSTM Math\n",
    "Some symbols look funny...🤔\n",
    "![lstm_math.png](img/lstm_math.png)\n",
    "[Source](https://www.coursera.org/learn/sequence-models-in-nlp/supplement/ANbcf/lstm-equations-optional)\n"
   ]
  },
  {
   "cell_type": "markdown",
   "id": "0b2dfbe9",
   "metadata": {},
   "source": [
    "# Named Entity Recognition (NER)\n",
    "- scan text fast for desired info\n",
    "- find & extract defined entities (e.g. names, offensive vocab)\n",
    "\n",
    "## NER types\n",
    "- geographical (Germany)\n",
    "- organizations (EOS)\n",
    "- geopolitical (German)\n",
    "- time (June 2021)\n",
    "- artifacts (...)\n",
    "- persons (Angela Merkel)\n",
    "\n",
    "\n",
    "Labeled Sentence:\n",
    "*Sebastian (PER) fährt nächste Woche (TIME) nach Erfurt (GEO).*\n",
    "\n",
    "## Examples Applied NER\n",
    "- efficient search engines (our confluence needs NER 😁)\n",
    "- recommendation engines (may not work for all recommendation use cases)\n",
    "- first level customer communication (call/chat) (e.g. forward customer to the best agent for his request)\n",
    "- tradobot (1. evaluate scraped content with NER, 2. trade accordingly)"
   ]
  },
  {
   "attachments": {},
   "cell_type": "markdown",
   "id": "3177ebbe",
   "metadata": {},
   "source": [
    "![acc.png](img/acc.png)\n",
    "[Source](https://www.coursera.org/learn/sequence-models-in-nlp/lecture/odcLM/computing-accuracy)"
   ]
  },
  {
   "cell_type": "markdown",
   "id": "e21849a9",
   "metadata": {},
   "source": [
    "# Assignment 3"
   ]
  },
  {
   "cell_type": "code",
   "execution_count": 5,
   "id": "8747d022",
   "metadata": {},
   "outputs": [],
   "source": [
    "import trax \n",
    "from trax import layers as tl\n",
    "import os \n",
    "import numpy as np\n",
    "import pandas as pd\n",
    "\n",
    "\n",
    "from w3 import get_params, get_vocab\n",
    "import random as rnd\n",
    "\n",
    "# set random seeds to make this notebook easier to replicate (depricated)\n",
    "#trax.supervised.trainer_lib.init_random_number_generators(33)\n",
    "# https://github.com/google/trax/issues/920"
   ]
  },
  {
   "cell_type": "markdown",
   "id": "cea92449",
   "metadata": {},
   "source": [
    "I'm testing the code with the small data set first. Next I'll get the rest of the data."
   ]
  },
  {
   "cell_type": "code",
   "execution_count": 8,
   "id": "c6425952",
   "metadata": {},
   "outputs": [],
   "source": [
    "vocab, tag_map = get_vocab('w3data/small/words.txt', 'w3data/small/tags.txt')\n",
    "t_sentences, t_labels, t_size = get_params(vocab, tag_map, 'w3data/small/train/sentences.txt', 'w3data/small/train/labels.txt')\n",
    "v_sentences, v_labels, v_size = get_params(vocab, tag_map, 'w3data/small/val/sentences.txt', 'w3data/small/val/labels.txt')\n",
    "test_sentences, test_labels, test_size = get_params(vocab, tag_map, 'w3data/small/test/sentences.txt', 'w3data/small/test/labels.txt')"
   ]
  },
  {
   "cell_type": "code",
   "execution_count": 13,
   "id": "0dd81fb3",
   "metadata": {},
   "outputs": [
    {
     "data": {
      "text/plain": [
       "10"
      ]
     },
     "execution_count": 13,
     "metadata": {},
     "output_type": "execute_result"
    }
   ],
   "source": []
  }
 ],
 "metadata": {
  "kernelspec": {
   "display_name": "Python 3",
   "language": "python",
   "name": "python3"
  },
  "language_info": {
   "codemirror_mode": {
    "name": "ipython",
    "version": 3
   },
   "file_extension": ".py",
   "mimetype": "text/x-python",
   "name": "python",
   "nbconvert_exporter": "python",
   "pygments_lexer": "ipython3",
   "version": "3.7.10"
  }
 },
 "nbformat": 4,
 "nbformat_minor": 5
}
