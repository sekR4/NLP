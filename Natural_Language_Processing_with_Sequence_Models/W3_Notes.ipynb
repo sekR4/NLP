{
 "cells": [
  {
   "cell_type": "markdown",
   "id": "b8975433",
   "metadata": {},
   "source": [
    "# LSTM\n",
    "- in LSTM info goes through forget gate, input gate, output gate\n",
    "- LSTM can deal with long sequences (robust to vanishing gradients?)\n",
    "- https://www.youtube.com/watch?v=uSdku8Q3d0A\n"
   ]
  },
  {
   "cell_type": "code",
   "execution_count": null,
   "id": "5e8c075e",
   "metadata": {},
   "outputs": [],
   "source": []
  }
 ],
 "metadata": {
  "kernelspec": {
   "display_name": "Python 3",
   "language": "python",
   "name": "python3"
  },
  "language_info": {
   "codemirror_mode": {
    "name": "ipython",
    "version": 3
   },
   "file_extension": ".py",
   "mimetype": "text/x-python",
   "name": "python",
   "nbconvert_exporter": "python",
   "pygments_lexer": "ipython3",
   "version": "3.7.10"
  }
 },
 "nbformat": 4,
 "nbformat_minor": 5
}
