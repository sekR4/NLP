{
 "cells": [
  {
   "attachments": {},
   "cell_type": "markdown",
   "id": "b8975433",
   "metadata": {},
   "source": [
    "# LSTM\n",
    "- in LSTM info goes through \n",
    "    - forget gate (gets prev. hidden state & $x^t1$), \n",
    "    - input gate (sigmoid, tanh), \n",
    "    - output gate (tanh)\n",
    "- LSTM can deal with long sequences (robust to vanishing gradients?)\n",
    "- https://www.youtube.com/watch?v=uSdku8Q3d0A\n",
    "\n",
    "## LSTM Math\n",
    "Some symbols look funny...🤔\n",
    "![lstm_math.png](img/lstm_math.png)\n",
    "[Source](https://www.coursera.org/learn/sequence-models-in-nlp/supplement/ANbcf/lstm-equations-optional)\n"
   ]
  },
  {
   "cell_type": "markdown",
   "id": "0b2dfbe9",
   "metadata": {},
   "source": [
    "# Named Entity Recognition (NER)\n",
    "- scan text fast for desired info\n",
    "- find & extract defined entities (e.g. names, offensive vocab)\n",
    "\n",
    "## NER types\n",
    "- geographical (Germany)\n",
    "- organizations (EOS)\n",
    "- geopolitical (German)\n",
    "- time (June 2021)\n",
    "- artifacts (...)\n",
    "- persons (Angela Merkel)\n",
    "\n",
    "\n",
    "Labeled Sentence:\n",
    "*Sebastian (PER) fährt nächste Woche (TIME) nach Erfurt (GEO).*\n",
    "\n",
    "## Examples Applied NER\n",
    "- efficient search engines (our confluence needs NER 😁)\n",
    "- recommendation engines (may not work for all recommendation use cases)\n",
    "- first level customer communication (call/chat) (e.g. forward customer to the best agent for his request)\n",
    "- tradobot (1. evaluate scraped content with NER, 2. trade accordingly)"
   ]
  },
  {
   "cell_type": "code",
   "execution_count": null,
   "id": "a092122d",
   "metadata": {},
   "outputs": [],
   "source": []
  }
 ],
 "metadata": {
  "kernelspec": {
   "display_name": "Python 3",
   "language": "python",
   "name": "python3"
  },
  "language_info": {
   "codemirror_mode": {
    "name": "ipython",
    "version": 3
   },
   "file_extension": ".py",
   "mimetype": "text/x-python",
   "name": "python",
   "nbconvert_exporter": "python",
   "pygments_lexer": "ipython3",
   "version": "3.7.10"
  }
 },
 "nbformat": 4,
 "nbformat_minor": 5
}
