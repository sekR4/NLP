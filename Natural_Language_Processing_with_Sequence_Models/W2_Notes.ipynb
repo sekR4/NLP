{
 "cells": [
  {
   "cell_type": "markdown",
   "id": "09d2f2c9",
   "metadata": {},
   "source": [
    "# Recurrent Neural Networks\n",
    "- Weights shared for each \"word cell\" (recurring)\n",
    "![image.png](img/rnn.png)\n",
    "[Source](https://www.coursera.org/learn/sequence-models-in-nlp/supplement/TyJuk/recurrent-neural-networks)"
   ]
  },
  {
   "cell_type": "code",
   "execution_count": null,
   "id": "08200eff",
   "metadata": {},
   "outputs": [],
   "source": []
  }
 ],
 "metadata": {
  "kernelspec": {
   "display_name": "Python 3",
   "language": "python",
   "name": "python3"
  },
  "language_info": {
   "codemirror_mode": {
    "name": "ipython",
    "version": 3
   },
   "file_extension": ".py",
   "mimetype": "text/x-python",
   "name": "python",
   "nbconvert_exporter": "python",
   "pygments_lexer": "ipython3",
   "version": "3.7.10"
  }
 },
 "nbformat": 4,
 "nbformat_minor": 5
}
