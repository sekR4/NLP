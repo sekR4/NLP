{
 "cells": [
  {
   "cell_type": "markdown",
   "id": "09d2f2c9",
   "metadata": {},
   "source": [
    "# Recurrent Neural Networks\n",
    "- Weights shared for each \"word cell\" (recurring)\n",
    "![image.png](img/rnn.png)\n",
    "[Source](https://www.coursera.org/learn/sequence-models-in-nlp/supplement/TyJuk/recurrent-neural-networks)\n",
    "<br>\n",
    "<br>"
   ]
  },
  {
   "cell_type": "markdown",
   "id": "a0a9299d",
   "metadata": {},
   "source": [
    "# Typical RNN Tasks\n",
    "- 1:n - e.g. give a word and get a sentence\n",
    "- n:1 - e.g. give a sentence and figure out if it's offensive or not (binary classification)\n",
    "- n:n - e.g. translate a sentence into another language\n",
    "<br>\n",
    "<br>"
   ]
  },
  {
   "cell_type": "markdown",
   "id": "f9ca2c38",
   "metadata": {},
   "source": [
    "# Why?\n",
    "![image.png](img/rnn_q_matrix.png)\n",
    "<br>\n",
    "<br>"
   ]
  },
  {
   "cell_type": "markdown",
   "id": "46db1fb2",
   "metadata": {},
   "source": [
    "# Simple RNN\n",
    "![image.png](img/simple_rnn.png)\n",
    "[Source](https://www.coursera.org/learn/sequence-models-in-nlp/supplement/eaLt6/math-in-simple-rnns)\n",
    "<br>\n",
    "<br>\n",
    "\n",
    "# Formulas\n",
    "![image-2.png](img/rnn_math.png)\n",
    "[Source](https://www.coursera.org/learn/sequence-models-in-nlp/supplement/eaLt6/math-in-simple-rnns)\n",
    "\n",
    "<br>\n",
    "<br>\n",
    "<img src=\"img/rnn_element_wise.png\" align=\"left\"/>\n",
    "\n",
    "This funny circle is standing for \"*a binary operation that takes two matrices of the same dimensions and produces another matrix of the same dimension as the operands, where each element i, j is the product of elements i, j of the original two matrices. It is to be distinguished from the more common matrix product.*\" [(Hadamard product)](https://en.wikipedia.org/wiki/Hadamard_product_(matrices)) Also see: [How to do in Python](https://stackoverflow.com/questions/40034993/how-to-get-element-wise-matrix-multiplication-hadamard-product-in-numpy)\n",
    "\n",
    "<br>\n",
    "<br>"
   ]
  },
  {
   "cell_type": "markdown",
   "id": "621b593a",
   "metadata": {},
   "source": [
    "# What are we training?\n",
    "![image.png](img/rnn_what_to_train.png)\n",
    "[Source](https://www.coursera.org/learn/sequence-models-in-nlp/supplement/eaLt6/math-in-simple-rnns)\n",
    "\n",
    "<br>\n",
    "<br>"
   ]
  },
  {
   "cell_type": "markdown",
   "id": "3022db7f",
   "metadata": {},
   "source": [
    "# Calculate Hidden State Activation `h` in Python\n",
    "*From h_t_prev to h_t*"
   ]
  },
  {
   "cell_type": "code",
   "execution_count": 1,
   "id": "c9218bb1",
   "metadata": {},
   "outputs": [],
   "source": [
    "import numpy as np"
   ]
  },
  {
   "cell_type": "code",
   "execution_count": 2,
   "id": "d06bb5e6",
   "metadata": {},
   "outputs": [],
   "source": [
    "w_hh = np.random.standard_normal((3,2))\n",
    "w_hx = np.random.standard_normal((3,3))\n",
    "h_t_prev = np.random.standard_normal((2,1))\n",
    "x_t = np.random.standard_normal((3,1))"
   ]
  },
  {
   "cell_type": "code",
   "execution_count": 6,
   "id": "ab02b180",
   "metadata": {},
   "outputs": [
    {
     "name": "stdout",
     "output_type": "stream",
     "text": [
      "w_hh\n",
      "\n",
      "[[ 0.22457062 -0.63607552]\n",
      " [ 0.38489911  0.09436209]\n",
      " [ 0.35757583 -0.8582695 ]]\n",
      "\n",
      "w_hx\n",
      "\n",
      "[[-1.89119573 -1.15237173 -2.64837489]\n",
      " [-0.65459109 -1.15981748  0.9526242 ]\n",
      " [-1.48586    -0.27073782 -0.5992768 ]]\n",
      "\n",
      "h_t_prev\n",
      "\n",
      "[[-1.82289398]\n",
      " [ 0.19193647]]\n",
      "\n",
      "x_t\n",
      "\n",
      "[[ 0.3404886 ]\n",
      " [-1.21314068]\n",
      " [ 0.30124242]]\n"
     ]
    }
   ],
   "source": [
    "print(\"w_hh\",w_hh,\"w_hx\",w_hx,\"h_t_prev\",h_t_prev,\"x_t\",x_t, sep=\"\\n\\n\")"
   ]
  },
  {
   "cell_type": "code",
   "execution_count": 12,
   "id": "89efe5b3",
   "metadata": {},
   "outputs": [
    {
     "data": {
      "text/plain": [
       "array([[ 0.1271755 ],\n",
       "       [ 1.76832631],\n",
       "       [-0.8434474 ]])"
      ]
     },
     "execution_count": 12,
     "metadata": {},
     "output_type": "execute_result"
    }
   ],
   "source": [
    "def sigmoid(x):\n",
    "     return 1 / (1 + np.exp(-x))\n",
    "    \n",
    "bias = np.random.standard_normal((x_t.shape[0],1))\n",
    "bias"
   ]
  },
  {
   "cell_type": "code",
   "execution_count": 16,
   "id": "408b7e1e",
   "metadata": {},
   "outputs": [
    {
     "name": "stdout",
     "output_type": "stream",
     "text": [
      "[[0.38983081]\n",
      " [0.92797018]\n",
      " [0.11732529]]\n"
     ]
    }
   ],
   "source": [
    "h_t = sigmoid(np.matmul(w_hh, h_t_prev) + np.matmul(w_hx, x_t) + bias)\n",
    "print(h_t)\n",
    "\n",
    "A = h_t"
   ]
  },
  {
   "cell_type": "code",
   "execution_count": 17,
   "id": "8a25a3a5",
   "metadata": {},
   "outputs": [
    {
     "name": "stdout",
     "output_type": "stream",
     "text": [
      "[[0.38983081]\n",
      " [0.92797018]\n",
      " [0.11732529]]\n"
     ]
    }
   ],
   "source": [
    "# Another way\n",
    "h_t = sigmoid(np.matmul(np.hstack((w_hh, w_hx)), np.vstack((h_t_prev, x_t))) + bias)\n",
    "print(h_t)\n",
    "\n",
    "B = h_t"
   ]
  },
  {
   "cell_type": "code",
   "execution_count": 19,
   "id": "bda99baf",
   "metadata": {},
   "outputs": [
    {
     "data": {
      "text/plain": [
       "True"
      ]
     },
     "execution_count": 19,
     "metadata": {},
     "output_type": "execute_result"
    }
   ],
   "source": [
    "np.allclose(A,B)"
   ]
  },
  {
   "cell_type": "code",
   "execution_count": 21,
   "id": "d3e6eb1f",
   "metadata": {},
   "outputs": [
    {
     "data": {
      "text/plain": [
       "array([[0.38983081],\n",
       "       [0.92797018],\n",
       "       [0.11732529]])"
      ]
     },
     "execution_count": 21,
     "metadata": {},
     "output_type": "execute_result"
    }
   ],
   "source": [
    "# Another way, too\n",
    "sigmoid(np.hstack((w_hh, w_hx)) @ np.vstack((h_t_prev, x_t)) + bias)"
   ]
  },
  {
   "cell_type": "code",
   "execution_count": 26,
   "id": "265212e6",
   "metadata": {},
   "outputs": [
    {
     "data": {
      "text/plain": [
       "array([[0.38983081],\n",
       "       [0.92797018],\n",
       "       [0.11732529]])"
      ]
     },
     "execution_count": 26,
     "metadata": {},
     "output_type": "execute_result"
    }
   ],
   "source": [
    "# Another way, too (this one is sexy)\n",
    "sigmoid(w_hh @ h_t_prev + w_hx @ x_t + bias)"
   ]
  },
  {
   "cell_type": "code",
   "execution_count": 32,
   "id": "b0d1dfaf",
   "metadata": {},
   "outputs": [
    {
     "name": "stdout",
     "output_type": "stream",
     "text": [
      "5.83 µs ± 208 ns per loop (mean ± std. dev. of 7 runs, 100000 loops each)\n"
     ]
    }
   ],
   "source": [
    "%timeit sigmoid(np.matmul(w_hh, h_t_prev) + np.matmul(w_hx, x_t) + bias)"
   ]
  },
  {
   "cell_type": "code",
   "execution_count": 29,
   "id": "24ae8e6a",
   "metadata": {},
   "outputs": [
    {
     "name": "stdout",
     "output_type": "stream",
     "text": [
      "14.9 µs ± 428 ns per loop (mean ± std. dev. of 7 runs, 100000 loops each)\n"
     ]
    }
   ],
   "source": [
    "%timeit sigmoid(np.matmul(np.hstack((w_hh, w_hx)), np.vstack((h_t_prev, x_t))) + bias)"
   ]
  },
  {
   "cell_type": "code",
   "execution_count": 30,
   "id": "652f81cf",
   "metadata": {},
   "outputs": [
    {
     "name": "stdout",
     "output_type": "stream",
     "text": [
      "14.4 µs ± 578 ns per loop (mean ± std. dev. of 7 runs, 100000 loops each)\n"
     ]
    }
   ],
   "source": [
    "%timeit sigmoid(np.hstack((w_hh, w_hx)) @ np.vstack((h_t_prev, x_t)) + bias)"
   ]
  },
  {
   "cell_type": "code",
   "execution_count": 33,
   "id": "892e10a2",
   "metadata": {},
   "outputs": [
    {
     "name": "stdout",
     "output_type": "stream",
     "text": [
      "5.41 µs ± 117 ns per loop (mean ± std. dev. of 7 runs, 100000 loops each)\n"
     ]
    }
   ],
   "source": [
    "%timeit sigmoid(w_hh @ h_t_prev + w_hx @ x_t + bias)"
   ]
  },
  {
   "cell_type": "markdown",
   "id": "63509972",
   "metadata": {},
   "source": [
    "Lets use `@` for element-wise operations. It's easier to remember, shorter and faster."
   ]
  },
  {
   "cell_type": "code",
   "execution_count": null,
   "id": "b9a0cd98",
   "metadata": {},
   "outputs": [],
   "source": []
  }
 ],
 "metadata": {
  "kernelspec": {
   "display_name": "Python 3",
   "language": "python",
   "name": "python3"
  },
  "language_info": {
   "codemirror_mode": {
    "name": "ipython",
    "version": 3
   },
   "file_extension": ".py",
   "mimetype": "text/x-python",
   "name": "python",
   "nbconvert_exporter": "python",
   "pygments_lexer": "ipython3",
   "version": "3.7.10"
  }
 },
 "nbformat": 4,
 "nbformat_minor": 5
}
