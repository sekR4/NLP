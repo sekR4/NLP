{
 "cells": [
  {
   "cell_type": "code",
   "execution_count": 1,
   "id": "9b18ce26",
   "metadata": {},
   "outputs": [],
   "source": [
    "import numpy as np"
   ]
  },
  {
   "cell_type": "code",
   "execution_count": 6,
   "id": "12e97867",
   "metadata": {},
   "outputs": [],
   "source": [
    "z = np.array([-2,-1,0,1])"
   ]
  },
  {
   "cell_type": "code",
   "execution_count": 7,
   "id": "baf4647a",
   "metadata": {},
   "outputs": [
    {
     "data": {
      "text/plain": [
       "array([0, 0, 0, 1])"
      ]
     },
     "execution_count": 7,
     "metadata": {},
     "output_type": "execute_result"
    }
   ],
   "source": [
    "np.maximum(z,0) # ReLU"
   ]
  },
  {
   "cell_type": "code",
   "execution_count": 3,
   "id": "eb3cf2f3",
   "metadata": {},
   "outputs": [
    {
     "name": "stdout",
     "output_type": "stream",
     "text": [
      "01_relu.png        03_embedding.png   05_tweet.png       07_propagation.png\r\n",
      "02_serial.png      04_mean.png        06_train.png\r\n"
     ]
    }
   ],
   "source": [
    "!cd img && ls"
   ]
  },
  {
   "attachments": {},
   "cell_type": "markdown",
   "id": "12a5163c",
   "metadata": {},
   "source": [
    "![image.png](img/01_relu.png)\n",
    "Source: https://www.coursera.org/learn/sequence-models-in-nlp"
   ]
  },
  {
   "attachments": {},
   "cell_type": "markdown",
   "id": "54375d3f",
   "metadata": {},
   "source": [
    "![image.png](img/02_serial.png)\n",
    "Source: https://www.coursera.org/learn/sequence-models-in-nlp/supplement/E3Yfq/serial-layer"
   ]
  },
  {
   "cell_type": "code",
   "execution_count": 9,
   "id": "4b2b6072",
   "metadata": {},
   "outputs": [
    {
     "data": {
      "text/plain": [
       "array([0, 0, 0, 2])"
      ]
     },
     "execution_count": 9,
     "metadata": {},
     "output_type": "execute_result"
    }
   ],
   "source": [
    "def DenseL1(x:np.array):\n",
    "    return x * 2\n",
    "\n",
    "def ActiReLu(z:np.array):\n",
    "    return np.maximum(z,0)\n",
    "\n",
    "y = ActiReLu(DenseL1(x))\n",
    "y"
   ]
  },
  {
   "attachments": {},
   "cell_type": "markdown",
   "id": "96a734af",
   "metadata": {},
   "source": [
    "# Warum?\n",
    "![image.png](img/05_tweet.png)\n",
    "Source: https://www.coursera.org/learn/sequence-models-in-nlp"
   ]
  },
  {
   "attachments": {},
   "cell_type": "markdown",
   "id": "9ffabb2b",
   "metadata": {},
   "source": [
    "# Embedding Layer\n",
    "![image.png](img/03_embedding.png)\n",
    "Source: https://www.coursera.org/learn/sequence-models-in-nlp/supplement/wfa54/other-layers\n",
    "\n",
    "Anzahl der Parameter (Weights) ~ n vocabs * n Embedding Layers?\n",
    "\n",
    "# Mean Layer\n",
    "![image-2.png](img/04_mean.png)"
   ]
  },
  {
   "cell_type": "code",
   "execution_count": 15,
   "id": "95a9cd0c",
   "metadata": {},
   "outputs": [
    {
     "data": {
      "text/plain": [
       "array([[0.009],\n",
       "       [0.009]])"
      ]
     },
     "execution_count": 15,
     "metadata": {},
     "output_type": "execute_result"
    }
   ],
   "source": [
    "embedding_layer = np.array([[0.02, 0.006],\n",
    "                          [-0.003, 0.01],\n",
    "                          [0.009, 0.01]])\n",
    "\n",
    "mean_layer = round(embedding_layer.mean(),3) * np.array([[1],[1]])\n",
    "\n",
    "mean_layer"
   ]
  },
  {
   "attachments": {},
   "cell_type": "markdown",
   "id": "2fcfd2af",
   "metadata": {},
   "source": [
    "# Training\n",
    "Die Ableitung kann sehr einfach gebildet werden. Ich wünschte, ich hätte so ein Werkzeug damals im Matheleistungskurs gehabt ;).\n",
    "\n",
    "![image.png](img/06_train.png)\n",
    "Source: https://www.coursera.org/learn/sequence-models-in-nlp/supplement/JAcvF/training"
   ]
  },
  {
   "cell_type": "code",
   "execution_count": 4,
   "id": "2ade443b",
   "metadata": {},
   "outputs": [],
   "source": [
    "import trax"
   ]
  },
  {
   "cell_type": "code",
   "execution_count": 9,
   "id": "64a651c1",
   "metadata": {},
   "outputs": [],
   "source": [
    "def f(x):\n",
    "    return 3*x**2 + x\n",
    "\n",
    "grad_f = trax.fastmath.grad(f)"
   ]
  },
  {
   "attachments": {},
   "cell_type": "markdown",
   "id": "d9703559",
   "metadata": {},
   "source": [
    "Nicht ganz so straight forward ist die Anwendung der Ableitung. Auf der Grafik sieht es einfach aus. Allerdings führte meine naive (vanilla python) Ausführung des Codes zu Tracebacks.\n",
    "\n",
    "![image.png](img/07_propagation.png)\n",
    "Source: https://www.coursera.org/learn/sequence-models-in-nlp/supplement/JAcvF/training"
   ]
  },
  {
   "cell_type": "code",
   "execution_count": 20,
   "id": "c795aa0b",
   "metadata": {},
   "outputs": [],
   "source": [
    "x = np.array([1,2])\n",
    "# trax.fastmath.grad(f)(x)"
   ]
  },
  {
   "cell_type": "code",
   "execution_count": null,
   "id": "b539b77c",
   "metadata": {},
   "outputs": [],
   "source": []
  }
 ],
 "metadata": {
  "kernelspec": {
   "display_name": "Python 3",
   "language": "python",
   "name": "python3"
  },
  "language_info": {
   "codemirror_mode": {
    "name": "ipython",
    "version": 3
   },
   "file_extension": ".py",
   "mimetype": "text/x-python",
   "name": "python",
   "nbconvert_exporter": "python",
   "pygments_lexer": "ipython3",
   "version": "3.7.10"
  }
 },
 "nbformat": 4,
 "nbformat_minor": 5
}
