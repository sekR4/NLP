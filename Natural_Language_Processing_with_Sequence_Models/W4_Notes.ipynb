{
 "cells": [
  {
   "cell_type": "markdown",
   "id": "d1994d66",
   "metadata": {},
   "source": [
    "# Siamese Network\n",
    "\n",
    "can find similarities for example between new and old questions asked, which would help to answer the new question if the old one is similar.\n",
    "\n",
    "Below is an example architecture. Even though this are 2 networks, only one has to be trained, since both are using the same parameters. The only difference would be the input (e.g. different word sequences). The output vectors will be compared. The result is cosine similarity (-1 <= y_hat <= 1).\n",
    "\n",
    "![](img/siamese.png)\n",
    "\n",
    "[Source](https://www.coursera.org/learn/sequence-models-in-nlp/supplement/oUdcN/architecture)"
   ]
  },
  {
   "cell_type": "code",
   "execution_count": 25,
   "id": "c1d90af1",
   "metadata": {},
   "outputs": [],
   "source": [
    "#import numpy as np\n",
    "import trax\n",
    "from trax import layers as tl\n",
    "import trax.fastmath.numpy as np\n",
    "import numpy"
   ]
  },
  {
   "cell_type": "code",
   "execution_count": 26,
   "id": "6315577e",
   "metadata": {},
   "outputs": [],
   "source": [
    "numpy.random.seed(10)\n",
    "%config Completer.use_jedi = False"
   ]
  },
  {
   "cell_type": "code",
   "execution_count": 22,
   "id": "2d0def9f",
   "metadata": {},
   "outputs": [],
   "source": [
    "def L2_normalize(x):\n",
    "    return x / np.sqrt(np.sum(x * x, axis=-1, keepdims=True))"
   ]
  },
  {
   "cell_type": "code",
   "execution_count": 27,
   "id": "458d18a6",
   "metadata": {},
   "outputs": [
    {
     "data": {
      "text/plain": [
       "array([[0.77132064, 0.02075195, 0.63364823, 0.74880388, 0.49850701],\n",
       "       [0.22479665, 0.19806286, 0.76053071, 0.16911084, 0.08833981]])"
      ]
     },
     "execution_count": 27,
     "metadata": {},
     "output_type": "execute_result"
    }
   ],
   "source": [
    "tensor = numpy.random.random((2,5))\n",
    "tensor"
   ]
  },
  {
   "cell_type": "code",
   "execution_count": 28,
   "id": "567cf3fc",
   "metadata": {},
   "outputs": [
    {
     "name": "stderr",
     "output_type": "stream",
     "text": [
      "WARNING:absl:No GPU/TPU found, falling back to CPU. (Set TF_CPP_MIN_LOG_LEVEL=0 and rerun for more info.)\n"
     ]
    },
    {
     "data": {
      "text/plain": [
       "DeviceArray([[0.57393795, 0.01544148, 0.4714962 , 0.55718327, 0.37093794],\n",
       "             [0.26781026, 0.23596111, 0.9060541 , 0.20146926, 0.10524315]],            dtype=float32)"
      ]
     },
     "execution_count": 28,
     "metadata": {},
     "output_type": "execute_result"
    }
   ],
   "source": [
    "norm_tensor = L2_normalize(tensor)\n",
    "norm_tensor"
   ]
  },
  {
   "cell_type": "code",
   "execution_count": 29,
   "id": "a65c97b6",
   "metadata": {},
   "outputs": [],
   "source": [
    "vocab_size = 500\n",
    "model_dimension = 128\n",
    "\n",
    "# Simple LSTM\n",
    "LSTM = tl.Serial(\n",
    "        tl.Embedding(vocab_size=vocab_size, d_feature=model_dimension),\n",
    "        tl.LSTM(model_dimension),\n",
    "        tl.Mean(axis=1),\n",
    "        tl.Fn('Normalize', lambda x: normalize(x))\n",
    "    )\n",
    "\n",
    "# Turns into a Siamese network\n",
    "Siamese = tl.Parallel(LSTM, LSTM)"
   ]
  },
  {
   "cell_type": "code",
   "execution_count": 30,
   "id": "1763aa7f",
   "metadata": {},
   "outputs": [
    {
     "data": {
      "text/plain": [
       "Parallel_in2_out2[\n",
       "  Serial[\n",
       "    Embedding_500_128\n",
       "    LSTM_128\n",
       "    Mean\n",
       "    Normalize\n",
       "  ]\n",
       "  Serial[\n",
       "    Embedding_500_128\n",
       "    LSTM_128\n",
       "    Mean\n",
       "    Normalize\n",
       "  ]\n",
       "]"
      ]
     },
     "execution_count": 30,
     "metadata": {},
     "output_type": "execute_result"
    }
   ],
   "source": [
    "Siamese"
   ]
  }
 ],
 "metadata": {
  "kernelspec": {
   "display_name": "Python 3",
   "language": "python",
   "name": "python3"
  },
  "language_info": {
   "codemirror_mode": {
    "name": "ipython",
    "version": 3
   },
   "file_extension": ".py",
   "mimetype": "text/x-python",
   "name": "python",
   "nbconvert_exporter": "python",
   "pygments_lexer": "ipython3",
   "version": "3.7.10"
  }
 },
 "nbformat": 4,
 "nbformat_minor": 5
}
