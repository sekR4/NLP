{
 "cells": [
  {
   "cell_type": "markdown",
   "id": "d1994d66",
   "metadata": {},
   "source": [
    "# Siamese Networks\n",
    "\n",
    "can find similarities for example between new and old questions asked, which would help to answer the new question if the old one is similar.\n",
    "\n",
    "Below is an example architecture. Even though this are 2 networks, only one has to be trained, since both are using the same parameters. The only difference would be the input (e.g. different word sequences). The output vectors will be compared. The result is cosine similarity (-1 <= y_hat <= 1).\n",
    "\n",
    "![](img/siamese.png)\n",
    "\n",
    "[Source](https://www.coursera.org/learn/sequence-models-in-nlp/supplement/oUdcN/architecture)"
   ]
  },
  {
   "cell_type": "code",
   "execution_count": 1,
   "id": "c1d90af1",
   "metadata": {},
   "outputs": [],
   "source": [
    "#import numpy as np\n",
    "import trax\n",
    "from trax import layers as tl\n",
    "import trax.fastmath.numpy as np\n",
    "import numpy"
   ]
  },
  {
   "cell_type": "code",
   "execution_count": 2,
   "id": "6315577e",
   "metadata": {},
   "outputs": [],
   "source": [
    "numpy.random.seed(10)\n",
    "%config Completer.use_jedi = False"
   ]
  },
  {
   "cell_type": "code",
   "execution_count": 3,
   "id": "2d0def9f",
   "metadata": {},
   "outputs": [],
   "source": [
    "def L2_normalize(x):\n",
    "    return x / np.sqrt(np.sum(x * x, axis=-1, keepdims=True))"
   ]
  },
  {
   "cell_type": "code",
   "execution_count": 4,
   "id": "458d18a6",
   "metadata": {},
   "outputs": [
    {
     "data": {
      "text/plain": [
       "array([[0.77132064, 0.02075195, 0.63364823, 0.74880388, 0.49850701],\n",
       "       [0.22479665, 0.19806286, 0.76053071, 0.16911084, 0.08833981]])"
      ]
     },
     "execution_count": 4,
     "metadata": {},
     "output_type": "execute_result"
    }
   ],
   "source": [
    "tensor = numpy.random.random((2,5))\n",
    "tensor"
   ]
  },
  {
   "cell_type": "code",
   "execution_count": 5,
   "id": "567cf3fc",
   "metadata": {},
   "outputs": [
    {
     "name": "stderr",
     "output_type": "stream",
     "text": [
      "WARNING:absl:No GPU/TPU found, falling back to CPU. (Set TF_CPP_MIN_LOG_LEVEL=0 and rerun for more info.)\n"
     ]
    },
    {
     "data": {
      "text/plain": [
       "DeviceArray([[0.57393795, 0.01544148, 0.4714962 , 0.55718327, 0.37093794],\n",
       "             [0.26781026, 0.23596111, 0.9060541 , 0.20146926, 0.10524315]],            dtype=float32)"
      ]
     },
     "execution_count": 5,
     "metadata": {},
     "output_type": "execute_result"
    }
   ],
   "source": [
    "norm_tensor = L2_normalize(tensor)\n",
    "norm_tensor"
   ]
  },
  {
   "cell_type": "code",
   "execution_count": 6,
   "id": "a65c97b6",
   "metadata": {},
   "outputs": [],
   "source": [
    "vocab_size = 500\n",
    "model_dimension = 128\n",
    "\n",
    "# A simple LSTM\n",
    "LSTM = tl.Serial(\n",
    "        tl.Embedding(vocab_size=vocab_size, d_feature=model_dimension),\n",
    "        tl.LSTM(model_dimension),\n",
    "        tl.Mean(axis=1),\n",
    "        tl.Fn('Normalize', lambda x: normalize(x))\n",
    "    )\n",
    "\n",
    "# Turns into a Siamese network via 'Parallel'\n",
    "Siamese = tl.Parallel(LSTM, LSTM)"
   ]
  },
  {
   "cell_type": "code",
   "execution_count": 7,
   "id": "1763aa7f",
   "metadata": {},
   "outputs": [
    {
     "data": {
      "text/plain": [
       "Parallel_in2_out2[\n",
       "  Serial[\n",
       "    Embedding_500_128\n",
       "    LSTM_128\n",
       "    Mean\n",
       "    Normalize\n",
       "  ]\n",
       "  Serial[\n",
       "    Embedding_500_128\n",
       "    LSTM_128\n",
       "    Mean\n",
       "    Normalize\n",
       "  ]\n",
       "]"
      ]
     },
     "execution_count": 7,
     "metadata": {},
     "output_type": "execute_result"
    }
   ],
   "source": [
    "Siamese"
   ]
  },
  {
   "cell_type": "markdown",
   "id": "430a5284",
   "metadata": {},
   "source": [
    "## It's all lost - How to calculate simple loss\n",
    "\n",
    "To calculate loss, we need to compare sequences. The original question is called `Anchor`, the similar one `Positive` and the completely unrelated `Negative`.\n",
    "\n",
    "\n",
    "*Do you like this course?* - Anchor\n",
    "\n",
    "*Are you happy with this course?* - Positive\n",
    "\n",
    "*Do you speak German?* - Negative\n",
    "\n",
    "![image.png](img/sim.png)\n",
    "[Source](https://www.wikiwand.com/en/Cosine_similarity)\n",
    "\n",
    "- similiarity between Anchor A and Positive P: `s(A,P) ~ 1`\n",
    "- similiarity between Anchor A and Negative N: `s(A,N) ~ -1`\n",
    "\n",
    "-> Try to minimize the difference = `s(A,N) - s(A,P)`\n",
    "\n",
    "![](img/siamese_loss_1.png)\n",
    "[Source](https://www.coursera.org/learn/sequence-models-in-nlp/supplement/Dts95/cost-function)\n",
    "\n",
    "\n"
   ]
  },
  {
   "cell_type": "markdown",
   "id": "81b7a9de",
   "metadata": {},
   "source": [
    "## We're not lost. Use triplets\n",
    "Computing loss like shown above, may bring us far away from `zer0`. However, ReLU (having Loss on the y-axis and difference on x) does the trick 😉. We want Loss >= 0.\n",
    "![](img/triplets.png)\n",
    "[Source](https://www.coursera.org/learn/sequence-models-in-nlp/supplement/Xm3vv/triplets)\n",
    "\n",
    "Usually ReLU would go through zero. With alpha we could shift it a bit to the left/right and thereby controll loss.\n",
    "\n",
    "![image.png](img/triplet_summary.png)\n",
    "[Source](https://www.coursera.org/learn/sequence-models-in-nlp/supplement/Xm3vv/triplets)"
   ]
  },
  {
   "cell_type": "markdown",
   "id": "636cb6bd",
   "metadata": {},
   "source": [
    "## Costs, costs, costs\n",
    "\n",
    "A batch of training data may look like this:\n",
    "\n",
    "|q1 |q2  |\n",
    "--- | --- \n",
    "|How much is the fish?|What does the fish cost?|\n",
    "|How old are you?|What is your age?|\n",
    "|...|...|\n",
    "\n",
    "Within a row questions have a similar meaning. Within a column questions must have a unique meaning.\n",
    "\n",
    "<br>\n",
    "<br>\n",
    "\n",
    "Below we see encoded question matrices.\n",
    "![](img/hard_negative_mining.png)\n",
    "[Source](https://www.coursera.org/learn/sequence-models-in-nlp/supplement/g0yAF/computing-the-cost-i)\n",
    "\n",
    "<br>\n",
    "<br>\n",
    "\n",
    "We build a similarity matrix, which can then be used to calculate the costs.\n",
    "![](img/sim_matrix.png)\n",
    "[Source](https://www.coursera.org/learn/sequence-models-in-nlp/supplement/g0yAF/computing-the-cost-i)"
   ]
  },
  {
   "cell_type": "markdown",
   "id": "d4d4a572",
   "metadata": {},
   "source": [
    "- mean negative aka mean_neg (mean of oranges in a row)\n",
    "- closest negative aka closest_neg (greatest orange in a row)\n",
    "- mean_neg accelerates training, reduces noise\n",
    "- closest_neg has higher penalties\n",
    "\n",
    "<br>\n",
    "<br>\n",
    "\n",
    "This was our previous Loss function.\n",
    "\n",
    "$\\mathcal{L} = \\max{(\\mathrm{s}(A,N) -\\mathrm{s}(A,P) +\\alpha, 0)}$\n",
    "\n",
    "We replace cos(A,N) with mean_neg (cost_1) & closest_neg (cost_2).\n",
    "\n",
    "$\\mathcal{L_\\mathrm{1}} = \\max{(mean\\_neg -\\mathrm{s}(A,P)  +\\alpha, 0)}$\n",
    "\n",
    "$\\mathcal{L_\\mathrm{2}} = \\max{(closest\\_neg -\\mathrm{s}(A,P)  +\\alpha, 0)}$\n",
    "\n",
    "And finally we calculate the full loss.\n",
    "\n",
    "$\\mathcal{L_\\mathrm{Full}} = \\mathcal{L_\\mathrm{1}} + \\mathcal{L_\\mathrm{2}}$\n"
   ]
  },
  {
   "cell_type": "markdown",
   "id": "f21f6fe2",
   "metadata": {},
   "source": [
    "## Enough theory about costs! Python please :)\n",
    "\n",
    "### 1. Similarity Score"
   ]
  },
  {
   "cell_type": "code",
   "execution_count": 8,
   "id": "630f5808",
   "metadata": {},
   "outputs": [
    {
     "name": "stdout",
     "output_type": "stream",
     "text": [
      "0.9946662395953002\n",
      "-0.01900636126615228\n",
      "-0.9946662395953002\n"
     ]
    }
   ],
   "source": [
    "import numpy as np\n",
    "\n",
    "\n",
    "def cosine_similarity(v1, v2):\n",
    "    \"\"\"Calculates similarity between vectors\"\"\"\n",
    "    return np.dot(v1, v2) / (np.sqrt(np.dot(v1, v1)) * np.sqrt(np.dot(v2, v2)))\n",
    "\n",
    "v1 = np.array([1, 2, 3.3, 4], dtype=float)\n",
    "v2 = np.array([1.5, 2, 3, 4], dtype=float)\n",
    "\n",
    "print(cosine_similarity(v1, v2))\n",
    "\n",
    "\n",
    "v2 = np.array([1.5, 2, 3, -4], dtype=float)\n",
    "\n",
    "print(cosine_similarity(v1, v2))\n",
    "\n",
    "v2 = -np.array([1.5, 2, 3, 4], dtype=float)\n",
    "\n",
    "print(cosine_similarity(v1, v2))"
   ]
  },
  {
   "cell_type": "markdown",
   "id": "bf8366f1",
   "metadata": {},
   "source": [
    "### 2. Similarity Score matrix"
   ]
  },
  {
   "cell_type": "code",
   "execution_count": 9,
   "id": "3dbe23f8",
   "metadata": {},
   "outputs": [
    {
     "name": "stdout",
     "output_type": "stream",
     "text": [
      "(4, 3)\n"
     ]
    },
    {
     "data": {
      "text/plain": [
       "array([[ 1,  2,  3],\n",
       "       [ 9,  8,  7],\n",
       "       [-1, -4, -2],\n",
       "       [ 1, -7,  2]])"
      ]
     },
     "execution_count": 9,
     "metadata": {},
     "output_type": "execute_result"
    }
   ],
   "source": [
    "v1_1 = np.array([1, 2, 3])\n",
    "v1_2 = np.array([9, 8, 7])\n",
    "v1_3 = np.array([-1, -4, -2])\n",
    "v1_4 = np.array([1, -7, 2])\n",
    "v1 = np.vstack([v1_1, v1_2, v1_3, v1_4])\n",
    "\n",
    "print(v1.shape)\n",
    "v1"
   ]
  },
  {
   "cell_type": "code",
   "execution_count": 10,
   "id": "21c147fd",
   "metadata": {},
   "outputs": [
    {
     "name": "stdout",
     "output_type": "stream",
     "text": [
      "(4, 3)\n"
     ]
    },
    {
     "data": {
      "text/plain": [
       "array([[ 1.27551159,  2.11854853,  3.01429143],\n",
       "       [ 8.83539979,  8.44302619,  8.21303737],\n",
       "       [-1.95506567, -2.96172592, -1.76136987],\n",
       "       [ 1.45513761, -8.12660221,  2.14513688]])"
      ]
     },
     "execution_count": 10,
     "metadata": {},
     "output_type": "execute_result"
    }
   ],
   "source": [
    "v2_1 = v1_1 + np.random.normal(0.01, 1, 3)\n",
    "v2_2 = v1_2 + np.random.normal(0.01, 1, 3)\n",
    "v2_3 = v1_3 + np.random.normal(0.01, 1, 3)\n",
    "v2_4 = v1_4 + np.random.normal(0.01, 1, 3)\n",
    "v2 = np.vstack([v2_1, v2_2, v2_3, v2_4])\n",
    "\n",
    "print(v2.shape)\n",
    "v2"
   ]
  },
  {
   "cell_type": "code",
   "execution_count": 11,
   "id": "3cf2f7ae",
   "metadata": {},
   "outputs": [],
   "source": [
    "assert len(v1) == len(v2), \"batch sizes must match\"\n",
    "assert v1.shape == v2.shape, \"shapes must match\""
   ]
  },
  {
   "cell_type": "markdown",
   "id": "057615dd",
   "metadata": {},
   "source": [
    "One could now loop over each vector combination (4x4) and calculate the matrix."
   ]
  },
  {
   "cell_type": "code",
   "execution_count": 12,
   "id": "b004245d",
   "metadata": {},
   "outputs": [
    {
     "name": "stdout",
     "output_type": "stream",
     "text": [
      "\n",
      "Row 1\n",
      "0.9977567116697676\n",
      "0.9141005340085158\n",
      "-0.8879260314833884\n",
      "-0.26201839722275444\n",
      "\n",
      "Row 2\n",
      "0.9120366010156774\n",
      "0.9974121429851325\n",
      "-0.9716636847049086\n",
      "-0.3105877856710746\n",
      "\n",
      "Row 3\n",
      "-0.8831049175844488\n",
      "-0.8748968670442764\n",
      "0.9542332192488748\n",
      "0.6846115343014618\n",
      "\n",
      "Row 4\n",
      "-0.26267254906979726\n",
      "-0.31274986428523927\n",
      "0.523953745127065\n",
      "0.9991906807604154\n"
     ]
    }
   ],
   "source": [
    "len_v = len(v1)\n",
    "\n",
    "for i in range(len_v):\n",
    "    print(\"\",f\"Row {i+1}\",  sep=\"\\n\")\n",
    "    for j in range(len_v):\n",
    "        print(cosine_similarity(v1[i], v2[j]))"
   ]
  },
  {
   "cell_type": "markdown",
   "id": "9e9aa237",
   "metadata": {},
   "source": [
    "However, a more elegant way is to use the dot product of L2-normalized vectors. Math ^^..."
   ]
  },
  {
   "cell_type": "code",
   "execution_count": 13,
   "id": "578b80bc",
   "metadata": {},
   "outputs": [
    {
     "data": {
      "text/plain": [
       "array([[ 0.99775671,  0.91410053, -0.88792603, -0.2620184 ],\n",
       "       [ 0.9120366 ,  0.99741214, -0.97166368, -0.31058779],\n",
       "       [-0.88310492, -0.87489687,  0.95423322,  0.68461153],\n",
       "       [-0.26267255, -0.31274986,  0.52395375,  0.99919068]])"
      ]
     },
     "execution_count": 13,
     "metadata": {},
     "output_type": "execute_result"
    }
   ],
   "source": [
    "similarity_matrix = np.dot(L2_normalize(v1), L2_normalize(v2).T)\n",
    "similarity_matrix"
   ]
  },
  {
   "cell_type": "markdown",
   "id": "5ccb516e",
   "metadata": {},
   "source": [
    "Note, how nicely we can see high similarity at the diagonale 🙂."
   ]
  },
  {
   "cell_type": "code",
   "execution_count": 15,
   "id": "8b9bca81",
   "metadata": {},
   "outputs": [
    {
     "data": {
      "text/plain": [
       "array([[0.99775671, 0.        , 0.        , 0.        ],\n",
       "       [0.        , 0.99741214, 0.        , 0.        ],\n",
       "       [0.        , 0.        , 0.95423322, 0.        ],\n",
       "       [0.        , 0.        , 0.        , 0.99919068]])"
      ]
     },
     "execution_count": 15,
     "metadata": {},
     "output_type": "execute_result"
    }
   ],
   "source": [
    "np.diag(np.diag(similarity_matrix))"
   ]
  },
  {
   "cell_type": "markdown",
   "id": "9b035f56",
   "metadata": {},
   "source": [
    "### 4. mean_neg & closest_neg"
   ]
  },
  {
   "cell_type": "code",
   "execution_count": 25,
   "id": "5747f9c7",
   "metadata": {},
   "outputs": [
    {
     "data": {
      "text/plain": [
       "array([[-0.07861463],\n",
       "       [-0.12340496],\n",
       "       [-0.35779675],\n",
       "       [-0.01715622]])"
      ]
     },
     "execution_count": 25,
     "metadata": {},
     "output_type": "execute_result"
    }
   ],
   "source": [
    "mean_neg = np.sum(\n",
    "    similarity_matrix - np.diag(np.diag(similarity_matrix)\n",
    "                               ), axis=-1, keepdims=True\n",
    "                )/ (similarity_matrix.shape[0] - 1)\n",
    "mean_neg"
   ]
  },
  {
   "cell_type": "code",
   "execution_count": 26,
   "id": "3a9eee1f",
   "metadata": {},
   "outputs": [
    {
     "data": {
      "text/plain": [
       "array([[0.91410053],\n",
       "       [0.9120366 ],\n",
       "       [0.68461153],\n",
       "       [0.52395375]])"
      ]
     },
     "execution_count": 26,
     "metadata": {},
     "output_type": "execute_result"
    }
   ],
   "source": [
    "closest_neg = []\n",
    "\n",
    "for i in similarity_matrix:\n",
    "    curr_max = max(i)\n",
    "    closest_neg.append(max([j for j in i if j != curr_max]))\n",
    "\n",
    "closest_neg = np.array([closest_neg]).T\n",
    "closest_neg"
   ]
  },
  {
   "cell_type": "markdown",
   "id": "997a330b",
   "metadata": {},
   "source": [
    "### 5. Costs (finally)\n",
    "All this reshaping is a bit confusing, though..."
   ]
  },
  {
   "cell_type": "code",
   "execution_count": 29,
   "id": "9baecb65",
   "metadata": {},
   "outputs": [
    {
     "data": {
      "text/plain": [
       "0.33096828036929316"
      ]
     },
     "execution_count": 29,
     "metadata": {},
     "output_type": "execute_result"
    }
   ],
   "source": [
    "alpha = 0.25\n",
    "\n",
    "L_1 = np.maximum(mean_neg - np.diag(similarity_matrix).reshape(similarity_matrix.shape[0], 1) + alpha, 0)\n",
    "L_2 = np.maximum(closest_neg - np.diag(similarity_matrix).reshape(similarity_matrix.shape[0], 1) + alpha, 0)\n",
    "L_full = L_1 + L_2\n",
    "\n",
    "cost = np.sum(L_full)\n",
    "cost"
   ]
  },
  {
   "cell_type": "markdown",
   "id": "32a2c5c5",
   "metadata": {},
   "source": [
    "## One shot learning\n",
    "\n",
    "- in classification u train on k classes & retrain for a new class\n",
    "- in one shot learning u just compare 1 class with another via a siamese network\n",
    "- only similarity score is needed"
   ]
  },
  {
   "cell_type": "code",
   "execution_count": null,
   "id": "9273d372",
   "metadata": {},
   "outputs": [],
   "source": []
  }
 ],
 "metadata": {
  "kernelspec": {
   "display_name": "Python 3",
   "language": "python",
   "name": "python3"
  },
  "language_info": {
   "codemirror_mode": {
    "name": "ipython",
    "version": 3
   },
   "file_extension": ".py",
   "mimetype": "text/x-python",
   "name": "python",
   "nbconvert_exporter": "python",
   "pygments_lexer": "ipython3",
   "version": "3.7.10"
  }
 },
 "nbformat": 4,
 "nbformat_minor": 5
}
